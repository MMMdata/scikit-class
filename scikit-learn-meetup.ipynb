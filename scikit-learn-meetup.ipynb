{
 "cells": [
  {
   "cell_type": "code",
   "execution_count": 2,
   "metadata": {
    "collapsed": false
   },
   "outputs": [],
   "source": [
    "import sklearn\n",
    "import pandas as pd\n",
    "import numpy as np"
   ]
  },
  {
   "cell_type": "code",
   "execution_count": 4,
   "metadata": {
    "collapsed": false
   },
   "outputs": [],
   "source": [
    "test_data = pd.read_csv(\"1377884607_tweet_product_company.csv\")\n",
    "judge_emotion = pd.read_csv(\"1377884607_tweet_product_company.csv\")"
   ]
  },
  {
   "cell_type": "code",
   "execution_count": 14,
   "metadata": {
    "collapsed": false
   },
   "outputs": [
    {
     "name": "stdout",
     "output_type": "stream",
     "text": [
      "                                          tweet_text  \\\n",
      "0  .@wesley83 I have a 3G iPhone. After 3 hrs twe...   \n",
      "1  @jessedee Know about @fludapp ? Awesome iPad/i...   \n",
      "2  @swonderlin Can not wait for #iPad 2 also. The...   \n",
      "3  @sxsw I hope this year's festival isn't as cra...   \n",
      "4  @sxtxstate great stuff on Fri #SXSW: Marissa M...   \n",
      "\n",
      "  emotion_in_tweet_is_directed_at  \\\n",
      "0                          iPhone   \n",
      "1              iPad or iPhone App   \n",
      "2                            iPad   \n",
      "3              iPad or iPhone App   \n",
      "4                          Google   \n",
      "\n",
      "  is_there_an_emotion_directed_at_a_brand_or_product  \n",
      "0                                   Negative emotion  \n",
      "1                                   Positive emotion  \n",
      "2                                   Positive emotion  \n",
      "3                                   Negative emotion  \n",
      "4                                   Positive emotion  \n",
      "--------------------------------------------------\n",
      "                                               tweet_text  \\\n",
      "count                                                9092   \n",
      "unique                                               9065   \n",
      "top     RT @mention Marissa Mayer: Google Will Connect...   \n",
      "freq                                                    5   \n",
      "\n",
      "       emotion_in_tweet_is_directed_at  \\\n",
      "count                             3291   \n",
      "unique                               9   \n",
      "top                               iPad   \n",
      "freq                               946   \n",
      "\n",
      "       is_there_an_emotion_directed_at_a_brand_or_product  \n",
      "count                                                9093  \n",
      "unique                                                  4  \n",
      "top                    No emotion toward brand or product  \n",
      "freq                                                 5389  \n",
      "--------------------------------------------------\n",
      "<class 'pandas.core.frame.DataFrame'>\n",
      "RangeIndex: 9093 entries, 0 to 9092\n",
      "Data columns (total 3 columns):\n",
      "tweet_text                                            9092 non-null object\n",
      "emotion_in_tweet_is_directed_at                       3291 non-null object\n",
      "is_there_an_emotion_directed_at_a_brand_or_product    9093 non-null object\n",
      "dtypes: object(3)\n",
      "memory usage: 213.2+ KB\n",
      "None\n"
     ]
    }
   ],
   "source": [
    "print test_data.head()\n",
    "print \"--------------------------------------------------\"\n",
    "print test_data.describe()\n",
    "print \"--------------------------------------------------\"\n",
    "print test_data.info()"
   ]
  },
  {
   "cell_type": "code",
   "execution_count": null,
   "metadata": {
    "collapsed": true
   },
   "outputs": [],
   "source": []
  }
 ],
 "metadata": {
  "kernelspec": {
   "display_name": "Python 2",
   "language": "python",
   "name": "python2"
  },
  "language_info": {
   "codemirror_mode": {
    "name": "ipython",
    "version": 2
   },
   "file_extension": ".py",
   "mimetype": "text/x-python",
   "name": "python",
   "nbconvert_exporter": "python",
   "pygments_lexer": "ipython2",
   "version": "2.7.11"
  }
 },
 "nbformat": 4,
 "nbformat_minor": 0
}
